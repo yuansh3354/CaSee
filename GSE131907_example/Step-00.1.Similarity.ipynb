{
 "cells": [
  {
   "cell_type": "markdown",
   "id": "c581e7b7",
   "metadata": {},
   "source": [
    "# Similarity\n",
    "\n",
    "---------------\n",
    "\n",
    "__Create__: Yuan.Sh\n",
    "\n",
    "__Date__: 2021-11-30 22:03:57\n",
    "\n",
    "__Update_1__: 2022-06-14 16:41:23\n",
    "\n",
    "__Email__: yuansh3354@163.com\n",
    "\n",
    "__Blog__: https://blog.csdn.net/qq_40966210\n",
    "\n",
    "__Address__:Fujian Medical University\n",
    "\n",
    "---------------\n",
    "\n",
    "## Summary of data \n",
    "\n",
    "| Cell_subType    | Count | Cancer or Normal |  |\n",
    "| --------------- | ----- | ---------------- |  |\n",
    "| AT1             | 530   | Normal           |  |\n",
    "| AT2             | 2020  | Normal           |  |\n",
    "| Ciliated        | 654   | Normal           |  |\n",
    "| Club            | 439   | Normal           |  |\n",
    "| Undetermined    | 60    | NA               |  |\n",
    "| tS1             | 3270  | Tumor            |  |\n",
    "| tS2             | 3018  | Tumor            |  |\n",
    "| tS3             | 64    | Tumor            |  |\n",
    "| nan             | 1628  | NA               |  |\n",
    "| Malignant cells | 24784 | Tumor            |  |\n",
    "\n",
    "---\n",
    "\n",
    "In the [article of Data](https://doi.org/10.1038/s41467-020-16164-1), authors use infercnv to define which cell is cancer cell. If any cell has copy number variation(use some threshold, see article), that is considered as a cancer cell, otherwise it is Na.\n",
    "\n",
    "However, generally speaking, we always treat no-CNV cell as Normal cell. Because that the threshold is not suitable for anyother datasets, and also, not everyone konws how to choose suitable threshold.\n",
    "\n",
    "__So, in the following study, we drop-out the `NA` value, as the article label. and use `Normal` replace `NA` as inferCNV label__\n",
    "\n",
    "> In this section, we just only evaluated the `Similarity` between __artivle-label__ and __CaSee-label__"
   ]
  },
  {
   "cell_type": "markdown",
   "id": "e100d001",
   "metadata": {},
   "source": [
    "Import `GSE131907_epi_meta.csv` which contained all epithelial cell.\n",
    "\n",
    "__All cells annotated by Kim. et al__"
   ]
  },
  {
   "cell_type": "code",
   "execution_count": 1,
   "id": "5320c775",
   "metadata": {
    "ExecuteTime": {
     "end_time": "2022-06-14T09:03:17.147777Z",
     "start_time": "2022-06-14T09:03:15.408462Z"
    },
    "code_folding": [],
    "scrolled": true
   },
   "outputs": [],
   "source": [
    "### 常规设置\n",
    "import os\n",
    "import math\n",
    "import itertools\n",
    "import warnings\n",
    "import numpy as np\n",
    "import glob \n",
    "import pandas as pd\n",
    "import pytorch_lightning as pl\n",
    "from collections import Counter\n",
    "import multiprocessing\n",
    "import matplotlib.pyplot as plt\n",
    "from PIL import Image\n",
    "import scanpy as sc\n",
    "import re \n",
    "meta = pd.read_csv('../GSE131907_epi_meta.csv',index_col=0)\n"
   ]
  },
  {
   "cell_type": "markdown",
   "id": "5234822e",
   "metadata": {
    "ExecuteTime": {
     "end_time": "2022-06-14T08:54:20.516265Z",
     "start_time": "2022-06-14T08:54:20.513040Z"
    }
   },
   "source": [
    "Import `merge_data_predict_Integration_.csv` which was the output of CaSee"
   ]
  },
  {
   "cell_type": "code",
   "execution_count": 2,
   "id": "3adbb5bf",
   "metadata": {
    "ExecuteTime": {
     "end_time": "2022-06-14T09:03:17.239646Z",
     "start_time": "2022-06-14T09:03:17.153336Z"
    }
   },
   "outputs": [],
   "source": [
    "predict = pd.read_csv('../merge_data_h5_file/merge_data_predict_Integration_.csv',index_col=0)\n",
    "meta = meta.dropna()\n",
    "ids = meta.index\n",
    "predict = predict.loc[ids]\n"
   ]
  },
  {
   "cell_type": "markdown",
   "id": "9ad7e363",
   "metadata": {},
   "source": [
    "__Calculation of the similarity of CaSee's results with those of Kim. et al.__"
   ]
  },
  {
   "cell_type": "code",
   "execution_count": 4,
   "id": "4119381c",
   "metadata": {
    "ExecuteTime": {
     "end_time": "2022-06-14T09:06:54.193788Z",
     "start_time": "2022-06-14T09:06:54.125503Z"
    },
    "scrolled": false
   },
   "outputs": [
    {
     "data": {
      "text/plain": [
       "0.9413875254743248"
      ]
     },
     "execution_count": 4,
     "metadata": {},
     "output_type": "execute_result"
    },
    {
     "data": {
      "text/plain": [
       "array([[29644,   550],\n",
       "       [ 1492,  3153]])"
      ]
     },
     "execution_count": 4,
     "metadata": {},
     "output_type": "execute_result"
    }
   ],
   "source": [
    "sum(predict['scale_predict'] == meta['article_label']) / predict.shape[0]\n",
    "from sklearn.metrics import confusion_matrix\n",
    "confusion_matrix(predict['scale_predict'], meta['article_label'], labels=['Cancer','Normal'])"
   ]
  },
  {
   "cell_type": "markdown",
   "id": "e16a51d0",
   "metadata": {},
   "source": [
    "##### similarity group by tissue"
   ]
  },
  {
   "cell_type": "code",
   "execution_count": 8,
   "id": "2d8f0e99",
   "metadata": {
    "ExecuteTime": {
     "end_time": "2022-06-14T08:57:15.615203Z",
     "start_time": "2022-06-14T08:57:15.576005Z"
    },
    "code_folding": []
   },
   "outputs": [
    {
     "data": {
      "text/html": [
       "<div>\n",
       "<style scoped>\n",
       "    .dataframe tbody tr th:only-of-type {\n",
       "        vertical-align: middle;\n",
       "    }\n",
       "\n",
       "    .dataframe tbody tr th {\n",
       "        vertical-align: top;\n",
       "    }\n",
       "\n",
       "    .dataframe thead th {\n",
       "        text-align: right;\n",
       "    }\n",
       "</style>\n",
       "<table border=\"1\" class=\"dataframe\">\n",
       "  <thead>\n",
       "    <tr style=\"text-align: right;\">\n",
       "      <th></th>\n",
       "      <th></th>\n",
       "      <th></th>\n",
       "      <th>Count</th>\n",
       "      <th>similarity</th>\n",
       "    </tr>\n",
       "    <tr>\n",
       "      <th>Sample_Origin</th>\n",
       "      <th>article_label</th>\n",
       "      <th>predict</th>\n",
       "      <th></th>\n",
       "      <th></th>\n",
       "    </tr>\n",
       "  </thead>\n",
       "  <tbody>\n",
       "    <tr>\n",
       "      <th rowspan=\"2\" valign=\"top\">nLung</th>\n",
       "      <th rowspan=\"2\" valign=\"top\">Normal</th>\n",
       "      <th>Cancer</th>\n",
       "      <td>550</td>\n",
       "      <td>0.148528</td>\n",
       "    </tr>\n",
       "    <tr>\n",
       "      <th>Normal</th>\n",
       "      <td>3153</td>\n",
       "      <td>0.851472</td>\n",
       "    </tr>\n",
       "    <tr>\n",
       "      <th rowspan=\"2\" valign=\"top\">tLung</th>\n",
       "      <th rowspan=\"2\" valign=\"top\">Cancer</th>\n",
       "      <th>Cancer</th>\n",
       "      <td>5764</td>\n",
       "      <td>0.907431</td>\n",
       "    </tr>\n",
       "    <tr>\n",
       "      <th>Normal</th>\n",
       "      <td>588</td>\n",
       "      <td>0.092569</td>\n",
       "    </tr>\n",
       "    <tr>\n",
       "      <th rowspan=\"2\" valign=\"top\">tL/B</th>\n",
       "      <th rowspan=\"2\" valign=\"top\">Cancer</th>\n",
       "      <th>Cancer</th>\n",
       "      <td>5981</td>\n",
       "      <td>0.934531</td>\n",
       "    </tr>\n",
       "    <tr>\n",
       "      <th>Normal</th>\n",
       "      <td>419</td>\n",
       "      <td>0.065469</td>\n",
       "    </tr>\n",
       "    <tr>\n",
       "      <th rowspan=\"2\" valign=\"top\">mLN</th>\n",
       "      <th rowspan=\"2\" valign=\"top\">Cancer</th>\n",
       "      <th>Cancer</th>\n",
       "      <td>2869</td>\n",
       "      <td>0.968929</td>\n",
       "    </tr>\n",
       "    <tr>\n",
       "      <th>Normal</th>\n",
       "      <td>92</td>\n",
       "      <td>0.031071</td>\n",
       "    </tr>\n",
       "    <tr>\n",
       "      <th rowspan=\"2\" valign=\"top\">mBrain</th>\n",
       "      <th rowspan=\"2\" valign=\"top\">Cancer</th>\n",
       "      <th>Cancer</th>\n",
       "      <td>15030</td>\n",
       "      <td>0.974519</td>\n",
       "    </tr>\n",
       "    <tr>\n",
       "      <th>Normal</th>\n",
       "      <td>393</td>\n",
       "      <td>0.025481</td>\n",
       "    </tr>\n",
       "  </tbody>\n",
       "</table>\n",
       "</div>"
      ],
      "text/plain": [
       "                                     Count  similarity\n",
       "Sample_Origin article_label predict                   \n",
       "nLung         Normal        Cancer     550    0.148528\n",
       "                            Normal    3153    0.851472\n",
       "tLung         Cancer        Cancer    5764    0.907431\n",
       "                            Normal     588    0.092569\n",
       "tL/B          Cancer        Cancer    5981    0.934531\n",
       "                            Normal     419    0.065469\n",
       "mLN           Cancer        Cancer    2869    0.968929\n",
       "                            Normal      92    0.031071\n",
       "mBrain        Cancer        Cancer   15030    0.974519\n",
       "                            Normal     393    0.025481"
      ]
     },
     "execution_count": 8,
     "metadata": {},
     "output_type": "execute_result"
    }
   ],
   "source": [
    "meta['predict'] = predict['scale_predict']\n",
    "df = meta.groupby(['Sample_Origin','article_label','predict']).count()\n",
    "df = pd.DataFrame(df['Cell_subtype'])\n",
    "df.columns = ['Count']\n",
    "df = df.loc[Counter(meta['Sample_Origin']).keys()]\n",
    "ids = [val for val in Counter(meta['Sample_Origin']).values() for i in range(2)]\n",
    "\n",
    "df['similarity']  = df['Count'] / ids\n",
    "df.to_csv('~/Desktop/GSE131907_tiss_similarity.csv')\n",
    "\n",
    "df"
   ]
  }
 ],
 "metadata": {
  "kernelspec": {
   "display_name": "Python 3 (ipykernel)",
   "language": "python",
   "name": "python3"
  },
  "language_info": {
   "codemirror_mode": {
    "name": "ipython",
    "version": 3
   },
   "file_extension": ".py",
   "mimetype": "text/x-python",
   "name": "python",
   "nbconvert_exporter": "python",
   "pygments_lexer": "ipython3",
   "version": "3.9.7"
  }
 },
 "nbformat": 4,
 "nbformat_minor": 5
}
